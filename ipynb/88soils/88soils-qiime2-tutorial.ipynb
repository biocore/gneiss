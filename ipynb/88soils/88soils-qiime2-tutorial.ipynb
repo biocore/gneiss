{
 "cells": [
  {
   "cell_type": "markdown",
   "metadata": {},
   "source": [
    "In this study, there were 88 soil samples collected from North and South America.  Each of these soil samples had a pH measurement. From this [paper](http://www.ncbi.nlm.nih.gov/pubmed/19502440), it was observed that pH plays a primary role in community assemblage.  Here, we will show that pH by itself can actually predict the microbial abundances, using balance trees."
   ]
  },
  {
   "cell_type": "code",
   "execution_count": 1,
   "metadata": {},
   "outputs": [],
   "source": [
    "import pandas as pd"
   ]
  },
  {
   "cell_type": "code",
   "execution_count": 2,
   "metadata": {},
   "outputs": [
    {
     "name": "stderr",
     "output_type": "stream",
     "text": [
      "/Users/mortonjt/miniconda3/envs/qiime2-2018.2/lib/python3.5/site-packages/h5py/__init__.py:34: FutureWarning: Conversion of the second argument of issubdtype from `float` to `np.floating` is deprecated. In future, it will be treated as `np.float64 == np.dtype(float).type`.\n",
      "  from ._conv import register_converters as _register_converters\n",
      "/Users/mortonjt/miniconda3/envs/qiime2-2018.2/lib/python3.5/site-packages/h5py/__init__.py:34: FutureWarning: Conversion of the second argument of issubdtype from `float` to `np.floating` is deprecated. In future, it will be treated as `np.float64 == np.dtype(float).type`.\n",
      "  from ._conv import register_converters as _register_converters\n"
     ]
    }
   ],
   "source": [
    "%%bash\n",
    "qiime tools import \\\n",
    "    --input-path 238_otu_table.biom \\\n",
    "    --output-path 88soils.biom.qza \\\n",
    "    --type FeatureTable[Frequency]\n",
    "\n",
    "qiime tools import \\\n",
    "    --input-path 88soils_taxonomy.txt \\\n",
    "    --output-path 88soils_taxonomy.qza \\\n",
    "    --type FeatureData[Taxonomy]"
   ]
  },
  {
   "cell_type": "markdown",
   "metadata": {},
   "source": [
    "Now we will be filtering out OTUs that are lower abundance.  We'll set the threshold to be __100__ reads.\n",
    "This is because there is going to be a lot of garbage OTUs due to contamination, sequencing error, or clustering errors.  We feel that the 100 read filter is conservative enough to demonstrate the utility of this tool.  Of course, this threshold depends on the dataset, and we suggest tinkering around with this threshold.\n",
    "\n",
    "Samples and OTUS with fewer than 100 reads can be filtered as follows."
   ]
  },
  {
   "cell_type": "code",
   "execution_count": 3,
   "metadata": {},
   "outputs": [
    {
     "name": "stdout",
     "output_type": "stream",
     "text": [
      "Saved FeatureTable[Frequency] to: 88soils_filt100.biom.qza\n"
     ]
    },
    {
     "name": "stderr",
     "output_type": "stream",
     "text": [
      "/Users/mortonjt/miniconda3/envs/qiime2-2018.2/lib/python3.5/site-packages/h5py/__init__.py:34: FutureWarning: Conversion of the second argument of issubdtype from `float` to `np.floating` is deprecated. In future, it will be treated as `np.float64 == np.dtype(float).type`.\n",
      "  from ._conv import register_converters as _register_converters\n"
     ]
    }
   ],
   "source": [
    "%%bash\n",
    "qiime feature-table filter-features \\\n",
    "    --i-table 88soils.biom.qza \\\n",
    "    --o-filtered-table 88soils_filt100.biom.qza \\\n",
    "    --p-min-frequency 100"
   ]
  },
  {
   "cell_type": "markdown",
   "metadata": {},
   "source": [
    "Now we will build a tree based on the pH values, since in previous work it was observed that pH was the major driving\n",
    "factor behind the community dissimilarity."
   ]
  },
  {
   "cell_type": "code",
   "execution_count": 4,
   "metadata": {
    "scrolled": false
   },
   "outputs": [
    {
     "name": "stdout",
     "output_type": "stream",
     "text": [
      "Saved Hierarchy to: ph_tree.nwk.qza\n"
     ]
    },
    {
     "name": "stderr",
     "output_type": "stream",
     "text": [
      "/Users/mortonjt/miniconda3/envs/qiime2-2018.2/lib/python3.5/site-packages/h5py/__init__.py:34: FutureWarning: Conversion of the second argument of issubdtype from `float` to `np.floating` is deprecated. In future, it will be treated as `np.float64 == np.dtype(float).type`.\n",
      "  from ._conv import register_converters as _register_converters\n"
     ]
    }
   ],
   "source": [
    "%%bash\n",
    "qiime gneiss gradient-clustering \\\n",
    "    --i-table 88soils_filt100.biom.qza \\\n",
    "    --m-gradient-file 88soils_metadata.txt \\\n",
    "    --m-gradient-column ph \\\n",
    "    --o-clustering ph_tree.nwk.qza \\\n",
    "    --p-no-weighted"
   ]
  },
  {
   "cell_type": "markdown",
   "metadata": {},
   "source": [
    "The tree will give us information about how the OTUs partition.  In this case, the tree groups together organisms that\n",
    "live in similar pH environments.  To get a better idea about how these organisms, let's visualize these partitions on a heatmap.  To this let's first categorize the samples by their measured pH."
   ]
  },
  {
   "cell_type": "markdown",
   "metadata": {},
   "source": [
    "Before running the regression, we have to account for zero abundances.  Due the nature of zeros, we cannot be certain if the zeros arose from undersampling, or the complete absence of an OTU.  To this extent, we'll add a pseudocount of 1 to approximate the uncertainity probability.  We'll also want this for visualizing the heatmaps, since we'll be doing some log scaling."
   ]
  },
  {
   "cell_type": "code",
   "execution_count": 5,
   "metadata": {},
   "outputs": [
    {
     "name": "stdout",
     "output_type": "stream",
     "text": [
      "Saved FeatureTable[Composition] to: 88soils_composition.biom.qza\n"
     ]
    },
    {
     "name": "stderr",
     "output_type": "stream",
     "text": [
      "/Users/mortonjt/miniconda3/envs/qiime2-2018.2/lib/python3.5/site-packages/h5py/__init__.py:34: FutureWarning: Conversion of the second argument of issubdtype from `float` to `np.floating` is deprecated. In future, it will be treated as `np.float64 == np.dtype(float).type`.\n",
      "  from ._conv import register_converters as _register_converters\n"
     ]
    }
   ],
   "source": [
    "%%bash\n",
    "qiime composition add-pseudocount \\\n",
    "    --i-table 88soils_filt100.biom.qza \\\n",
    "    --p-pseudocount 1 \\\n",
    "    --o-composition-table 88soils_composition.biom.qza"
   ]
  },
  {
   "cell_type": "markdown",
   "metadata": {},
   "source": [
    "Now we can generate a heatmap using these discretized pH values."
   ]
  },
  {
   "cell_type": "code",
   "execution_count": 6,
   "metadata": {},
   "outputs": [
    {
     "name": "stdout",
     "output_type": "stream",
     "text": [
      "Saved Visualization to: ph_heatmap.qzv\n"
     ]
    },
    {
     "name": "stderr",
     "output_type": "stream",
     "text": [
      "/Users/mortonjt/miniconda3/envs/qiime2-2018.2/lib/python3.5/site-packages/h5py/__init__.py:34: FutureWarning: Conversion of the second argument of issubdtype from `float` to `np.floating` is deprecated. In future, it will be treated as `np.float64 == np.dtype(float).type`.\n",
      "  from ._conv import register_converters as _register_converters\n",
      "/Users/mortonjt/miniconda3/envs/qiime2-2018.2/lib/python3.5/site-packages/gneiss-0.4.2.dev0-py3.5.egg/gneiss/util.py:181: FutureWarning: '.reindex_axis' is deprecated and will be removed in a future version. Use '.reindex' instead.\n"
     ]
    }
   ],
   "source": [
    "%%bash\n",
    "qiime gneiss dendrogram-heatmap \\\n",
    "    --i-table 88soils_composition.biom.qza \\\n",
    "    --i-tree ph_tree.nwk.qza \\\n",
    "    --m-metadata-file 88soils_modified_metadata.txt \\\n",
    "    --m-metadata-column \"ph_rounded\" \\\n",
    "    --o-visualization \"ph_heatmap\" \\\n",
    "    --p-ndim 10 --verbose"
   ]
  },
  {
   "cell_type": "markdown",
   "metadata": {},
   "source": [
    "Based on this, we can observe that there are clear cut clustering patterns of organisms with respect to pH.  \n",
    "We would like to run statistical tests that can determine how strong the correlation between the partitions and the pH is.  Thats where balances can help us.   To do this, we will calculate balances and perform an ordinary least squares regression on the transformed data.  \n",
    "\n",
    "We'll want to fit a quartic linear model to each of the balances individually with respect to pH.\n",
    "This model was chosen, because in the original paper, there was a horseshoe shape observed. So, it would make sense to use a parabolic function to fit each balance. Empirically, we found that a 4th degree polynomial gave the best results.\n",
    "\n",
    "For now, we'll define 3 more variables encoding different powers of pH as follows."
   ]
  },
  {
   "cell_type": "markdown",
   "metadata": {},
   "source": [
    "Now we can run the linear regression using ordinary least squares regression. All of the covariates (i.e. `ph`, `ph2`, `ph3`, `ph4`) can be encoded in the regression model.  Note that there is no dependent variable defined, since this regression is run individually against all of the balances specified by `otu_table` and `ph_tree`.  \n"
   ]
  },
  {
   "cell_type": "code",
   "execution_count": 7,
   "metadata": {},
   "outputs": [
    {
     "name": "stdout",
     "output_type": "stream",
     "text": [
      "Saved FeatureTable[Balance] to: 88soils_balances.qza\n"
     ]
    },
    {
     "name": "stderr",
     "output_type": "stream",
     "text": [
      "/Users/mortonjt/miniconda3/envs/qiime2-2018.2/lib/python3.5/site-packages/h5py/__init__.py:34: FutureWarning: Conversion of the second argument of issubdtype from `float` to `np.floating` is deprecated. In future, it will be treated as `np.float64 == np.dtype(float).type`.\n",
      "  from ._conv import register_converters as _register_converters\n"
     ]
    }
   ],
   "source": [
    "%%bash\n",
    "qiime gneiss ilr-transform \\\n",
    "    --i-table 88soils_composition.biom.qza \\\n",
    "    --i-tree ph_tree.nwk.qza \\\n",
    "    --o-balances 88soils_balances.qza"
   ]
  },
  {
   "cell_type": "code",
   "execution_count": 8,
   "metadata": {},
   "outputs": [
    {
     "name": "stdout",
     "output_type": "stream",
     "text": [
      "Saved Visualization to: 88soils_regression_summary.qzv\n"
     ]
    },
    {
     "name": "stderr",
     "output_type": "stream",
     "text": [
      "/Users/mortonjt/miniconda3/envs/qiime2-2018.2/lib/python3.5/site-packages/h5py/__init__.py:34: FutureWarning: Conversion of the second argument of issubdtype from `float` to `np.floating` is deprecated. In future, it will be treated as `np.float64 == np.dtype(float).type`.\n",
      "  from ._conv import register_converters as _register_converters\n"
     ]
    }
   ],
   "source": [
    "%%bash\n",
    "qiime gneiss ols-regression \\\n",
    "    --p-formula \"ph + ph2 + ph3 + ph4\" \\\n",
    "    --i-table 88soils_balances.qza \\\n",
    "    --i-tree ph_tree.nwk.qza \\\n",
    "    --m-metadata-file 88soils_metadata.txt \\\n",
    "    --o-visualization 88soils_regression_summary.qzv"
   ]
  },
  {
   "cell_type": "code",
   "execution_count": 9,
   "metadata": {},
   "outputs": [
    {
     "name": "stdout",
     "output_type": "stream",
     "text": [
      "Saved Visualization to: y0_taxa_summary.qzv\n"
     ]
    },
    {
     "name": "stderr",
     "output_type": "stream",
     "text": [
      "/Users/mortonjt/miniconda3/envs/qiime2-2018.2/lib/python3.5/site-packages/h5py/__init__.py:34: FutureWarning: Conversion of the second argument of issubdtype from `float` to `np.floating` is deprecated. In future, it will be treated as `np.float64 == np.dtype(float).type`.\n",
      "  from ._conv import register_converters as _register_converters\n"
     ]
    }
   ],
   "source": [
    "%%bash\n",
    "qiime gneiss balance-taxonomy \\\n",
    "    --i-table 88soils_composition.biom.qza \\\n",
    "    --i-tree ph_tree.nwk.qza \\\n",
    "    --i-taxonomy 88soils_taxonomy.qza \\\n",
    "    --p-taxa-level 2 \\\n",
    "    --p-balance-name 'y0' \\\n",
    "    --m-metadata-file '88soils_modified_metadata.txt' \\\n",
    "    --m-metadata-column 'ph' \\\n",
    "    --o-visualization y0_taxa_summary.qzv"
   ]
  },
  {
   "cell_type": "markdown",
   "metadata": {},
   "source": [
    "These summary results can be directly visualized in qiime2.  Checkout [view.qiime2.org](https://view.qiime2.org) and try to upload your qzv file theres. "
   ]
  },
  {
   "cell_type": "markdown",
   "metadata": {},
   "source": [
    "We can see from a high level that some of the balances can describe the succession of low pH thriving microbes and high pH thriving microbes as the pH increases.  We'll show in the Python tutorial how to investigate these results in more detail."
   ]
  }
 ],
 "metadata": {
  "kernelspec": {
   "display_name": "Python 3",
   "language": "python",
   "name": "python3"
  },
  "language_info": {
   "codemirror_mode": {
    "name": "ipython",
    "version": 3
   },
   "file_extension": ".py",
   "mimetype": "text/x-python",
   "name": "python",
   "nbconvert_exporter": "python",
   "pygments_lexer": "ipython3",
   "version": "3.5.5"
  }
 },
 "nbformat": 4,
 "nbformat_minor": 1
}
