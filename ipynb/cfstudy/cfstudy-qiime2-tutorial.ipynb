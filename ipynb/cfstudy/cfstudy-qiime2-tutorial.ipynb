{
 "cells": [
  {
   "cell_type": "markdown",
   "metadata": {},
   "source": [
    "In this study, there were 18 patients with cystic fibrosis.  The hypothesis was that there were two main microbial communities at play in the CF lung.  One of these communities thrives at low pH, and the other community thrives at high pH.  To test this, sputum samples were divided among 8 tubes, and each of the tubes was perturbed with a different pH.  Here we will calculate balances, and test how these balances change with respect to pH, using linear mixed effects models."
   ]
  },
  {
   "cell_type": "markdown",
   "metadata": {},
   "source": [
    "First, we'll want to filter out low abundance OTUs.  This will not only remove potential confounders, but could also alleviate the issue with zeros. "
   ]
  },
  {
   "cell_type": "code",
   "execution_count": 1,
   "metadata": {},
   "outputs": [
    {
     "name": "stdout",
     "output_type": "stream",
     "text": [
      "/Users/mortonjt/miniconda3/envs/qiime2-2018.2/lib/python3.5/site-packages/h5py/__init__.py:34: FutureWarning: Conversion of the second argument of issubdtype from `float` to `np.floating` is deprecated. In future, it will be treated as `np.float64 == np.dtype(float).type`.\n",
      "  from ._conv import register_converters as _register_converters\n",
      "\u001b[32mSaved FeatureTable[Frequency] to: cfstudy_common_filt500.biom.qza\u001b[0m\n"
     ]
    }
   ],
   "source": [
    "!qiime feature-table filter-features \\\n",
    "    --i-table cfstudy_common.biom.qza \\\n",
    "    --o-filtered-table cfstudy_common_filt500.biom.qza \\\n",
    "    --p-min-frequency 500"
   ]
  },
  {
   "cell_type": "markdown",
   "metadata": {},
   "source": [
    "Again, we will create the tree using pH.  Note that we'll also want to reorder the OTU table for the balance calculations."
   ]
  },
  {
   "cell_type": "code",
   "execution_count": 2,
   "metadata": {},
   "outputs": [
    {
     "name": "stdout",
     "output_type": "stream",
     "text": [
      "/Users/mortonjt/miniconda3/envs/qiime2-2018.2/lib/python3.5/site-packages/h5py/__init__.py:34: FutureWarning: Conversion of the second argument of issubdtype from `float` to `np.floating` is deprecated. In future, it will be treated as `np.float64 == np.dtype(float).type`.\n",
      "  from ._conv import register_converters as _register_converters\n",
      "\u001b[32mSaved Hierarchy to: ph_tree.nwk.qza\u001b[0m\n"
     ]
    }
   ],
   "source": [
    "!qiime gneiss gradient-clustering \\\n",
    "    --i-table cfstudy_common_filt500.biom.qza \\\n",
    "    --m-gradient-file cfstudy_modified_metadata.txt \\\n",
    "    --m-gradient-column ph \\\n",
    "    --o-clustering ph_tree.nwk.qza \\\n",
    "    --p-weighted --verbose"
   ]
  },
  {
   "cell_type": "markdown",
   "metadata": {},
   "source": [
    "Before running the linear mixed effects models using mixed we'll want to replace zeros with a pseudocount to approximate the uncertainity probability."
   ]
  },
  {
   "cell_type": "code",
   "execution_count": 3,
   "metadata": {},
   "outputs": [
    {
     "name": "stdout",
     "output_type": "stream",
     "text": [
      "/Users/mortonjt/miniconda3/envs/qiime2-2018.2/lib/python3.5/site-packages/h5py/__init__.py:34: FutureWarning: Conversion of the second argument of issubdtype from `float` to `np.floating` is deprecated. In future, it will be treated as `np.float64 == np.dtype(float).type`.\n",
      "  from ._conv import register_converters as _register_converters\n",
      "\u001b[32mSaved FeatureTable[Composition] to: cf_composition.qza\u001b[0m\n"
     ]
    }
   ],
   "source": [
    "!qiime composition add-pseudocount \\\n",
    "    --i-table cfstudy_common_filt500.biom.qza \\\n",
    "    --p-pseudocount 1 \\\n",
    "    --o-composition-table cf_composition.qza"
   ]
  },
  {
   "cell_type": "code",
   "execution_count": 4,
   "metadata": {},
   "outputs": [
    {
     "name": "stdout",
     "output_type": "stream",
     "text": [
      "/Users/mortonjt/miniconda3/envs/qiime2-2018.2/lib/python3.5/site-packages/h5py/__init__.py:34: FutureWarning: Conversion of the second argument of issubdtype from `float` to `np.floating` is deprecated. In future, it will be treated as `np.float64 == np.dtype(float).type`.\n",
      "  from ._conv import register_converters as _register_converters\n",
      "\u001b[32mSaved FeatureTable[Balance] to: cf_balances.qza\u001b[0m\n"
     ]
    }
   ],
   "source": [
    "!qiime gneiss ilr-transform \\\n",
    "    --i-table cf_composition.qza \\\n",
    "    --i-tree ph_tree.nwk.qza \\\n",
    "    --o-balances cf_balances.qza"
   ]
  },
  {
   "cell_type": "markdown",
   "metadata": {},
   "source": [
    "Now we can run the linear mixed effects models. pH is the only covariate being tested for and each of the patients are being accounted for by passing host_subject_id into groups.  This is because the microbial differences between the patients are much larger than the pH effects, so we need to correct for this change, by treating each patient separately.  This is why the linear mixed effects strategy is chosen."
   ]
  },
  {
   "cell_type": "code",
   "execution_count": 5,
   "metadata": {},
   "outputs": [
    {
     "name": "stdout",
     "output_type": "stream",
     "text": [
      "/Users/mortonjt/miniconda3/envs/qiime2-2018.2/lib/python3.5/site-packages/h5py/__init__.py:34: FutureWarning: Conversion of the second argument of issubdtype from `float` to `np.floating` is deprecated. In future, it will be treated as `np.float64 == np.dtype(float).type`.\n",
      "  from ._conv import register_converters as _register_converters\n",
      "\u001b[32mSaved Visualization to: cf_linear_mixed_effects_model.qzv\u001b[0m\n"
     ]
    }
   ],
   "source": [
    "!qiime gneiss lme-regression \\\n",
    "    --p-formula \"ph\" \\\n",
    "    --i-table cf_balances.qza \\\n",
    "    --i-tree ph_tree.nwk.qza \\\n",
    "    --m-metadata-file cfstudy_modified_metadata.txt \\\n",
    "    --p-groups host_subject_id \\\n",
    "    --o-visualization cf_linear_mixed_effects_model"
   ]
  },
  {
   "cell_type": "markdown",
   "metadata": {},
   "source": [
    "These summary results can be visualized in qiime2 visualization framework.  Checkout [view.qiime2.org](https://view.qiime2.org)\n",
    "\n",
    "Let's further summarize the results of the linear mixed effects model.  We'll plot the how one of the top balances change with respect to the pH."
   ]
  },
  {
   "cell_type": "code",
   "execution_count": 10,
   "metadata": {},
   "outputs": [
    {
     "name": "stdout",
     "output_type": "stream",
     "text": [
      "/Users/mortonjt/miniconda3/envs/qiime2-2018.2/lib/python3.5/site-packages/h5py/__init__.py:34: FutureWarning: Conversion of the second argument of issubdtype from `float` to `np.floating` is deprecated. In future, it will be treated as `np.float64 == np.dtype(float).type`.\n",
      "  from ._conv import register_converters as _register_converters\n",
      "\u001b[32mSaved Visualization to: y2_taxa_summary.qzv\u001b[0m\n"
     ]
    }
   ],
   "source": [
    "!qiime gneiss balance-taxonomy \\\n",
    "    --i-table cf_composition.qza \\\n",
    "    --i-tree ph_tree.nwk.qza \\\n",
    "    --i-taxonomy cfstudy_taxonomy.qza \\\n",
    "    --p-taxa-level 4 \\\n",
    "    --p-balance-name 'y2' \\\n",
    "    --m-metadata-file 'cfstudy_modified_metadata.txt' \\\n",
    "    --m-metadata-column 'ph' \\\n",
    "    --o-visualization y2_taxa_summary.qzv"
   ]
  },
  {
   "cell_type": "markdown",
   "metadata": {
    "collapsed": true
   },
   "source": [
    "Similar to the 88soils example, there is a very obvious transition from low pH organisms to high pH organism as the pH increases.  However, given that every patient has different microbes, so it is difficult to test for individual microbes abundances across patients.  However, every patient has microbes that behave the same with respect to pH.  Balances is a very powerful tool for addressing this, as it can allow for entire subcommunities to be tested, rather than just individual OTUs."
   ]
  }
 ],
 "metadata": {
  "kernelspec": {
   "display_name": "Python 3",
   "language": "python",
   "name": "python3"
  },
  "language_info": {
   "codemirror_mode": {
    "name": "ipython",
    "version": 3
   },
   "file_extension": ".py",
   "mimetype": "text/x-python",
   "name": "python",
   "nbconvert_exporter": "python",
   "pygments_lexer": "ipython3",
   "version": "3.5.5"
  }
 },
 "nbformat": 4,
 "nbformat_minor": 1
}
